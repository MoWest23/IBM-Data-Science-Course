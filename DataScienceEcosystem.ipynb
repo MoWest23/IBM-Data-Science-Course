{
 "cells": [
  {
   "cell_type": "markdown",
   "id": "fb21b0b5-e7f2-44b1-8ea8-f1eacea09941",
   "metadata": {},
   "source": [
    "# Data Science Tools and Ecosystem"
   ]
  },
  {
   "cell_type": "markdown",
   "id": "3d0a2d85-e1a5-4434-b959-c8e101f1f1f4",
   "metadata": {},
   "source": [
    "In this notebook, Data Science Tools and Ecosystem are summarized"
   ]
  },
  {
   "cell_type": "markdown",
   "id": "5fb4e30e-b8ca-47b2-9170-8c701e3b9e48",
   "metadata": {},
   "source": [
    "**Objectives**\n",
    "\n",
    "* List popular languages for Data Science\n",
    "* List the common used libraries used by Data Scientist\n",
    "* Creating a table\n",
    "* Evaluating arithemetic expression"
   ]
  },
  {
   "cell_type": "markdown",
   "id": "2e2af32c-6384-4511-a7b0-91779174dbea",
   "metadata": {},
   "source": [
    "Some of the popular languages that Data scientist use are\n",
    "1. Big Data\n",
    "2. Data Minning \n",
    "3. Data Cluster "
   ]
  },
  {
   "cell_type": "markdown",
   "id": "d2092921-7068-45ae-9411-45463fae3622",
   "metadata": {},
   "source": [
    "Some of the commonly used libraries used by Data scientist include:\n",
    "\n",
    "1. Pandas (Python data analysis)\n",
    "2. Matplotlib (Plotting library)\n",
    "3. TensorFlow (High performance computation)\n",
    "4. Numpy (Numerical python)\n",
    "5. Keras (Deep learning framework)\n",
    "6. scikit-learn (machine learning lib)\n",
    "   \n"
   ]
  },
  {
   "cell_type": "markdown",
   "id": "0ea95677-702e-4808-8022-72e4356d04b1",
   "metadata": {},
   "source": [
    "|Data Science Tools|\n",
    "|------------------|\n",
    "|RStudio (An integrated development env widely used for statistical computing and graphics)|\n",
    "|Jupyter Notebook (A web app that allows you to create, share doc containing live code, equation, visualiazation and narrative text)|\n",
    "|Apache Spark|\n",
    "|Spyder|"
   ]
  },
  {
   "cell_type": "markdown",
   "id": "4e60effb-49f5-4d34-b20f-62cc78aff933",
   "metadata": {},
   "source": [
    "### Below are a few examples of evaluating arithmetic expressions in Python"
   ]
  },
  {
   "cell_type": "code",
   "execution_count": 25,
   "id": "0d0664cc-7bcc-4cab-b99a-0447de8760f5",
   "metadata": {},
   "outputs": [
    {
     "name": "stdout",
     "output_type": "stream",
     "text": [
      "This is a simple arithemtic expression to multiply then add integers\n"
     ]
    },
    {
     "data": {
      "text/plain": [
       "17"
      ]
     },
     "execution_count": 25,
     "metadata": {},
     "output_type": "execute_result"
    }
   ],
   "source": [
    "print(\"This is a simple arithemtic expression to multiply then add integers\")\n",
    "(3*4)+5"
   ]
  },
  {
   "cell_type": "code",
   "execution_count": 23,
   "id": "f4e98263-e76c-4777-bbda-6a13ef9092cf",
   "metadata": {},
   "outputs": [
    {
     "name": "stdout",
     "output_type": "stream",
     "text": [
      "This will convert 200 minutes to hours by diving by 60\n"
     ]
    },
    {
     "data": {
      "text/plain": [
       "3.3333333333333335"
      ]
     },
     "execution_count": 23,
     "metadata": {},
     "output_type": "execute_result"
    }
   ],
   "source": [
    "print(\"This will convert 200 minutes to hours by diving by 60\")\n",
    "200/60"
   ]
  },
  {
   "cell_type": "markdown",
   "id": "1cf800cd-bb7d-487a-8bfd-0281c27164d1",
   "metadata": {},
   "source": [
    "## Author\n",
    "   Modupe"
   ]
  },
  {
   "cell_type": "code",
   "execution_count": null,
   "id": "657650c8-489a-41a6-b006-7727dc5b7d70",
   "metadata": {},
   "outputs": [],
   "source": []
  }
 ],
 "metadata": {
  "kernelspec": {
   "display_name": "Python 3 (ipykernel)",
   "language": "python",
   "name": "python3"
  },
  "language_info": {
   "codemirror_mode": {
    "name": "ipython",
    "version": 3
   },
   "file_extension": ".py",
   "mimetype": "text/x-python",
   "name": "python",
   "nbconvert_exporter": "python",
   "pygments_lexer": "ipython3",
   "version": "3.12.7"
  }
 },
 "nbformat": 4,
 "nbformat_minor": 5
}
